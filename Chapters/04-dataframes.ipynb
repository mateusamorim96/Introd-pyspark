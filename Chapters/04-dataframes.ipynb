{
  "cells": [
    {
      "cell_type": "raw",
      "metadata": {},
      "source": [
        "---\n",
        "title: Introducing Spark DataFrames\n",
        "bibliography: ../references.bib\n",
        "---"
      ],
      "id": "11980ac2"
    },
    {
      "cell_type": "markdown",
      "metadata": {},
      "source": [
        "## Introduction\n",
        "\n",
        "In this chapter, you will understand how Spark represents and manages tables (or tabular data). Different programming languages and frameworks use different names to describe a table. But, in Apache Spark, tables are referred as Spark DataFrames.\n",
        "\n",
        "In `pyspark`, these DataFrames are stored inside python objects of class `pyspark.sql.dataframe.DataFrame`, and all the methods present in this class, are commonly referred as the DataFrame API of Spark. This is the most important API of Spark. Much of your Spark applications will heavily use this API to compose your data transformations and data flows [@chambers2018].\n",
        "\n",
        "## Spark DataFrames versus Spark Datasets\n",
        "\n",
        "Spark have two notions of structured data: DataFrames and Datasets. In summary, a Spark Dataset, is a distributed collection of data [@sparkdoc]. In contrast, a Spark DataFrame is a Spark Dataset organized into named columns [@sparkdoc].\n",
        "\n",
        "This means that, Spark DataFrames are very similar to tables as we know in relational databases - RDBMS. So in a Spark DataFrame, each column has a name, and they all have the same number of rows. Furthermore, all the rows inside a column must store the same type of data, but each column can store a different type of data.\n",
        "\n",
        "In the other hand, Spark Datasets are considered a collection of any type of data. So a Dataset might be a collection of unstructured data as well, like log files, JSON and XML trees, etc. Spark Datasets can be created and transformed trough the Dataset API of Spark. But this API is available only in Scala and Java API's of Spark. For this reason, we do not act directly on Datasets with `pyspark`, only DataFrames. That's ok, because for the most part of applications, we do want to use DataFrames, and not Datasets, to represent our data.\n",
        "\n",
        "However, what makes a Spark DataFrame different from other dataframes? Like the `pandas` DataFrame? Or the R native `data.frame` structure? Is the **distributed** aspect of it. Spark DataFrames are based on Spark Datasets, and these Datasets are collections of data that are distributed across the cluster. As an example, lets suppose you have the following table stored as a Spark DataFrame:\n",
        "\n",
        "| ID  | Name   | Value |\n",
        "|-----|--------|-------|\n",
        "| 1   | Anne   | 502   |\n",
        "| 2   | Carls  | 432   |\n",
        "| 3   | Stoll  | 444   |\n",
        "| 4   | Percy  | 963   |\n",
        "| 5   | Martha | 123   |\n",
        "| 6   | Sigrid | 621   |\n",
        "\n",
        "If you are running Spark in a 4 nodes cluster (one is the driver node, and the other three are worker nodes). Each worker node of the cluster will store a section of this data. So you, as the programmer, will see, manage and transform this table as if it was a single and unified table. But behind the hoods, Spark will split this data and store it as many fragments across the Spark cluster. @fig-distributed-df presents this notion in a visual manner.\n",
        "\n",
        "![A Spark DataFrame is distributed across the cluster](../Figures/distributed-df.png){#fig-distributed-df fig-align=\"center\"}\n",
        "\n",
        "\n",
        "## Building a Spark DataFrame\n",
        "\n",
        "There are some different methods to create a Spark DataFrame. For example, because a DataFrame is basically a Dataset of rows, we can build a DataFrame from a collection of `Row`'s, through the `createDataFrame()` method from your Spark Session:"
      ],
      "id": "1ee85877"
    },
    {
      "cell_type": "code",
      "metadata": {},
      "source": [
        "from pyspark.sql import SparkSession\n",
        "spark = SparkSession.builder.getOrCreate()\n",
        "from datetime import date\n",
        "from pyspark.sql import Row\n",
        "\n",
        "data = [\n",
        "  Row(id = 1, value = 28.3, date = date(2021,1,1)),\n",
        "  Row(id = 2, value = 15.8, date = date(2021,1,1)),\n",
        "  Row(id = 3, value = 20.1, date = date(2021,1,2)),\n",
        "  Row(id = 4, value = 12.6, date = date(2021,1,3))\n",
        "]\n",
        "\n",
        "df = spark.createDataFrame(data)"
      ],
      "id": "64a68b3d",
      "execution_count": null,
      "outputs": []
    },
    {
      "cell_type": "markdown",
      "metadata": {},
      "source": [
        "Remember that a Spark DataFrame in python is a object of class `pyspark.sql.dataframe.DataFrame` as you can see below. If you try to see what is inside of this kind of object, you will get a small description of the columns present in the DataFrame as a result:"
      ],
      "id": "7c9c63bd"
    },
    {
      "cell_type": "code",
      "metadata": {},
      "source": [
        "#| eval: false\n",
        "type(df)"
      ],
      "id": "1690c5c5",
      "execution_count": null,
      "outputs": []
    },
    {
      "cell_type": "markdown",
      "metadata": {},
      "source": [
        "```{verbatim}\n",
        "<class 'pyspark.sql.dataframe.DataFrame'>\n",
        "```\n"
      ],
      "id": "279719b1"
    },
    {
      "cell_type": "code",
      "metadata": {},
      "source": [
        "df"
      ],
      "id": "f624c538",
      "execution_count": null,
      "outputs": []
    },
    {
      "cell_type": "markdown",
      "metadata": {},
      "source": [
        "So, in the above example, we use the `Row()` constructor (from `pyspark.sql` module) to build 4 rows. The `createDataFrame()` method, stack these 4 rows together to form our new DataFrame `df`. The result is a Spark DataFrame with 4 rows and 3 columns (`id`, `value` and `date`).\n",
        "\n",
        "But you can use different methods to create the same Spark DataFrame. As another example, with the code below, we are creating a DataFrame called `students`. To do this, we create two python lists (`data` and `columns`), then, deliver these lists to `createDataFrame()` method. Each element of `data` is a python `tuple` that represents a row in the `students` DataFrame. And each element of `columns` represent the name of a column present in this new DataFrame."
      ],
      "id": "affbb1c3"
    },
    {
      "cell_type": "code",
      "metadata": {},
      "source": [
        "data = [\n",
        "  (12114, 'Anne', 21, 1.56, 8, 9, 10, 9, 'Economics', 'SC'),\n",
        "  (13007, 'Adrian', 23, 1.82, 6, 6, 8, 7, 'Economics', 'SC'),\n",
        "  (10045, 'George', 29, 1.77, 10, 9, 10, 7, 'Law', 'SC'),\n",
        "  (12459, 'Adeline', 26, 1.61, 8, 6, 7, 7, 'Law', 'SC'),\n",
        "  (10190, 'Mayla', 22, 1.67, 7, 7, 7, 9, 'Design', 'AR'),\n",
        "  (11552, 'Daniel', 24, 1.75, 9, 9, 10, 9, 'Design', 'AR')\n",
        "]\n",
        "\n",
        "columns = [\n",
        "  'StudentID', 'Name', 'Age', 'Height', 'Score1',\n",
        "  'Score2', 'Score3', 'Score4', 'Course', 'Department'\n",
        "]\n",
        "\n",
        "students = spark.createDataFrame(data, columns)\n",
        "students"
      ],
      "id": "539bdadc",
      "execution_count": null,
      "outputs": []
    },
    {
      "cell_type": "markdown",
      "metadata": {},
      "source": [
        "If you need to, you can easily collect a python list with the column names present in your DataFrame, in the same way you would do in a `pandas` DataFrame. That is, by using the `columns` method of your DataFrame, like this:"
      ],
      "id": "c61c217b"
    },
    {
      "cell_type": "code",
      "metadata": {},
      "source": [
        "students.columns"
      ],
      "id": "f6e3aece",
      "execution_count": null,
      "outputs": []
    },
    {
      "cell_type": "markdown",
      "metadata": {},
      "source": [
        "## Viewing a Spark DataFrame\n",
        "\n",
        "A key aspect of Spark is its laziness. In other words, for most operations, Spark will only check if your code is correct and if it makes sense. Spark will not actually run or execute the operations you are describing in your code, unless you explicit ask for it with a trigger operation, that is called an \"action\" (this kind of operation is described in @sec-dataframe-actions).\n",
        "\n",
        "You can notice this laziness in the above output. Because when we call for an object that stores a Spark DataFrame (like `df` and `students`), Spark will only calculate and print a summary of the structure of your Spark DataFrame, and not the DataFrame itself.\n",
        "\n",
        "So how can we actually see our DataFrame? How can we visualize the rows and values that are stored inside of it? We use the `show()` method. With this method, Spark will print the table as pure text, as you can see in the example below:"
      ],
      "id": "1ff15387"
    },
    {
      "cell_type": "code",
      "metadata": {},
      "source": [
        "students.show()"
      ],
      "id": "9effdec0",
      "execution_count": null,
      "outputs": []
    },
    {
      "cell_type": "markdown",
      "metadata": {},
      "source": [
        "By default, this method shows only the top rows of your DataFrame, but you can specify how much rows exactly you want to see, by using `show(n)`, where `n` is the number of rows. For example, I can visualize only the first 2 rows of `df` like this:"
      ],
      "id": "849aa37b"
    },
    {
      "cell_type": "code",
      "metadata": {},
      "source": [
        "df.show(2)"
      ],
      "id": "396981ba",
      "execution_count": null,
      "outputs": []
    },
    {
      "cell_type": "markdown",
      "metadata": {},
      "source": [
        "## The DataFrame Schema\n",
        "\n",
        "The schema of a Spark DataFrame is the combination of column names and the data types associated with each of these columns. Schemas can be set explicitly by you (that is, you can tell Spark how the schema of your DataFrame should look like), or, can be defined automatically by Spark while reading and creating data. You can get a succinct description of a DataFrame schema, by looking inside the object where this DataFrame is stored. \n",
        "\n",
        "For example, lets look again to the `df` DataFrame. In the result below, we can see that `df` has three columns (`id`, `value` and `date`). By the description `id: bigint`, we know that `id` is a column of type `bigint`, which translates to the `LongType()` of Spark (we will talk shortly about these data types). Furthermore, by the descriptions `value: double` and `date: date`, we know too that the columns `value` and `date` are of type `double` and `date`, respectively."
      ],
      "id": "85172fe5"
    },
    {
      "cell_type": "code",
      "metadata": {},
      "source": [
        "df"
      ],
      "id": "de874ab6",
      "execution_count": null,
      "outputs": []
    },
    {
      "cell_type": "markdown",
      "metadata": {},
      "source": [
        "So, by calling the object of your DataFrame (i.e. an object of class `pyspark.sql.dataframe.DataFrame`) in the console, you can see a small description of the schema of this DataFrame. But, how can you access the description of this schema programmatically? You do this, by using the `schema` method of your DataFrame, like in the example below:"
      ],
      "id": "914f997a"
    },
    {
      "cell_type": "code",
      "metadata": {},
      "source": [
        "df.schema"
      ],
      "id": "81bd1544",
      "execution_count": null,
      "outputs": []
    },
    {
      "cell_type": "markdown",
      "metadata": {},
      "source": [
        "The result of the `schema` method, is a `StructType()` object, that contains some information about each column of your DataFrame. More specifically, a `StructType()` object is filled with multiple `StructField()` objects. Each `StructField()` object store the name and the type of a column, and a boolean value (`True` or `False`) that indicates if this column can contain any null value inside of it.\n",
        "\n",
        "You can use a `for` loop to iterate through this `StructType()` and get the information of each column separately."
      ],
      "id": "bcfcabf1"
    },
    {
      "cell_type": "code",
      "metadata": {},
      "source": [
        "schema = df.schema\n",
        "for column in schema:\n",
        "  print(column)"
      ],
      "id": "fae1db7a",
      "execution_count": null,
      "outputs": []
    },
    {
      "cell_type": "markdown",
      "metadata": {},
      "source": [
        "You can access just the data type of each column by using the `dataType` method of each `StructField()` object."
      ],
      "id": "85587c8b"
    },
    {
      "cell_type": "code",
      "metadata": {},
      "source": [
        "for column in schema:\n",
        "  datatype = column.dataType\n",
        "  print(datatype)"
      ],
      "id": "f66138af",
      "execution_count": null,
      "outputs": []
    },
    {
      "cell_type": "markdown",
      "metadata": {},
      "source": [
        "And you can do the same for column names and the boolean value (that indicates if the column can contain \"null\" values), by using the `name` and `nullable` methods, respectively."
      ],
      "id": "7246e69b"
    },
    {
      "cell_type": "code",
      "metadata": {},
      "source": [
        "# Accessing the name of each column\n",
        "for column in schema:\n",
        "  print(column.name)"
      ],
      "id": "22930523",
      "execution_count": null,
      "outputs": []
    },
    {
      "cell_type": "code",
      "metadata": {},
      "source": [
        "# Accessing the boolean value that indicates\n",
        "# if the column can contain null values\n",
        "for column in schema:\n",
        "  print(column.nullable)"
      ],
      "id": "22603e50",
      "execution_count": null,
      "outputs": []
    },
    {
      "cell_type": "markdown",
      "metadata": {},
      "source": [
        "## Partitions of a Spark DataFrame\n",
        "\n",
        "As we exposed in @fig-distributed-df, a Spark DataFrame is broken into many small parts that are distributed across the cluster. Each one of these parts are considered a DataFrame *partition*.\n"
      ],
      "id": "1362930f"
    }
  ],
  "metadata": {
    "kernelspec": {
      "name": "python3",
      "language": "python",
      "display_name": "Python 3 (ipykernel)"
    }
  },
  "nbformat": 4,
  "nbformat_minor": 5
}